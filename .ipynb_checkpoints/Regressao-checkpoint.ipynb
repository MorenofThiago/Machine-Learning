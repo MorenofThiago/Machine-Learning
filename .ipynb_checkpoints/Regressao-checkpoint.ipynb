{
 "cells": [
  {
   "cell_type": "markdown",
   "id": "840d9900",
   "metadata": {},
   "source": [
    "Regressão Linear "
   ]
  },
  {
   "cell_type": "code",
   "execution_count": 71,
   "id": "9362f17e",
   "metadata": {},
   "outputs": [
    {
     "ename": "SyntaxError",
     "evalue": "unterminated string literal (detected at line 17) (2465319218.py, line 17)",
     "output_type": "error",
     "traceback": [
      "\u001b[1;36m  Cell \u001b[1;32mIn[71], line 17\u001b[1;36m\u001b[0m\n\u001b[1;33m    \"hipotese\u001b[0m\n\u001b[1;37m    ^\u001b[0m\n\u001b[1;31mSyntaxError\u001b[0m\u001b[1;31m:\u001b[0m unterminated string literal (detected at line 17)\n"
     ]
    }
   ],
   "source": [
    "import numpy as np\n",
    "\n",
    "def f_true (x):\n",
    "    \n",
    "    return 2 + 0.8 * x\n",
    "    \n",
    "# conjunto de dados {(x,y)}\n",
    "xs = np. linspace (-3, 3, 100)\n",
    "ys = np. array ( [ f_true (x) + np. random . randn () *0.5 for x in xs] )\n",
    "m = len(xs)\n",
    "\n",
    "#inputs\n",
    "epocas = 500\n",
    "alpha = 0.1   #Taxa de aprendizado\n",
    "\n",
    "#theta inicial\n",
    "theta = np.array((0, 0.1))\n",
    "\n",
    "theta_hat = np.zeros((epocas, m))\n",
    "\"hipotese\n",
    "def h(x, theta):\n",
    "    \n",
    "    htheta = theta[0]+ theta[1]*x\n",
    "    \n",
    "    return htheta\n",
    "\n",
    "\n",
    "\"funcao custo\"\n",
    "def J(theta, xs , ys, m):\n",
    "    \n",
    "    custo = (1/(2*m))*np.sum((h(xs,theta)-ys)**2)\n",
    "    \n",
    "    return custo\n",
    "\n",
    "\"derivada parcial com respeito a theta [i]\"\n",
    "def gradient(epocas, alpha, i, theta, xs, ys, m):\n",
    "    \n",
    "    #custo = np.zeros((epocas,1))\n",
    "    for epocas in range(i):\n",
    "\n",
    "            dtheta[0] = (h(xs,theta)-ys)\n",
    "            dtheta[1] = ((h(xs,theta)-ys)*xs)\n",
    "\n",
    "            theta_hat[0] = theta[0] - (alpha/m)*np.sum(dtheta[0])\n",
    "            theta_hat[1] = theta[1] - (alpha/m)*np.sum(dtheta[1])\n",
    "            \n",
    "            theta = np.array((theta_hat[0], theta_hat[1]))\n",
    "            \n",
    "            theta_hat[epocas,:] = theta\n",
    "            custo_hat[epocas,:] = J(theta, xs , ys, m)\n",
    "                                             \n",
    "    return theta_hat,custo_hat\n",
    "\n",
    "                                       \n",
    "\"plota no mesmo grafico : - o modelo / hipotese (reta) a reta original ( true function ) e os dados com ruido (xs , ys)\"\n",
    "def print_modelo (theta, xs, ys):\n",
    "    pass                                        "
   ]
  },
  {
   "cell_type": "code",
   "execution_count": 76,
   "id": "ab20fbb5",
   "metadata": {},
   "outputs": [
    {
     "name": "stdout",
     "output_type": "stream",
     "text": [
      "[[0.]\n",
      " [0.]\n",
      " [0.]\n",
      " [0.]\n",
      " [0.]\n",
      " [0.]\n",
      " [0.]\n",
      " [0.]\n",
      " [0.]\n",
      " [0.]]\n"
     ]
    }
   ],
   "source": [
    "theta = np.array((0, 0.1))\n",
    "custo = np.zeros((10,1))\n",
    "print(custo)"
   ]
  }
 ],
 "metadata": {
  "kernelspec": {
   "display_name": "Python 3 (ipykernel)",
   "language": "python",
   "name": "python3"
  },
  "language_info": {
   "codemirror_mode": {
    "name": "ipython",
    "version": 3
   },
   "file_extension": ".py",
   "mimetype": "text/x-python",
   "name": "python",
   "nbconvert_exporter": "python",
   "pygments_lexer": "ipython3",
   "version": "3.10.9"
  }
 },
 "nbformat": 4,
 "nbformat_minor": 5
}
